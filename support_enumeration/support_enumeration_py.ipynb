{
 "cells": [
  {
   "cell_type": "markdown",
   "metadata": {},
   "source": [
    "# Implementing Support Enumeration in Python: Hints"
   ]
  },
  {
   "cell_type": "markdown",
   "metadata": {},
   "source": [
    "Import `NumPy` first of all.\n",
    "(See [the lecture](http://lectures.quantecon.org/py/numpy.html) on `NumPy`.)"
   ]
  },
  {
   "cell_type": "code",
   "execution_count": 1,
   "metadata": {
    "collapsed": true
   },
   "outputs": [],
   "source": [
    "import numpy as np"
   ]
  },
  {
   "cell_type": "markdown",
   "metadata": {},
   "source": [
    "Consider the example from von Stengel (2007):\n",
    "$$\n",
    "A =\n",
    "\\begin{bmatrix}\n",
    "3 & 3 \\\\\n",
    "2 & 5 \\\\\n",
    "0 & 6\n",
    "\\end{bmatrix},\n",
    "\\quad\n",
    "B =\n",
    "\\begin{bmatrix}\n",
    "3 & 2 \\\\\n",
    "2 & 6 \\\\\n",
    "3 & 1\n",
    "\\end{bmatrix}.\n",
    "$$"
   ]
  },
  {
   "cell_type": "markdown",
   "metadata": {},
   "source": [
    "It will be convenient to denote the actions by *indices*,\n",
    "so let the action spaces of players 1 and 2 be\n",
    "$$\n",
    "M = \\{0, 1, 2\\}, \\quad\n",
    "N = \\{0, 1\\}.\n",
    "$$\n",
    "(Note that in Python, indices start with 0.)"
   ]
  },
  {
   "cell_type": "markdown",
   "metadata": {},
   "source": [
    "Create NumPy arrays for the payoff matrices:"
   ]
  },
  {
   "cell_type": "code",
   "execution_count": 2,
   "metadata": {
    "collapsed": true
   },
   "outputs": [],
   "source": [
    "A = np.array([[3, 3],\n",
    "              [2, 5],\n",
    "              [0 ,6]])\n",
    "B = np.array([[3, 2],\n",
    "              [2, 6],\n",
    "              [3, 1]])"
   ]
  },
  {
   "cell_type": "markdown",
   "metadata": {},
   "source": [
    "It will be more convenient to work with the [transpose](http://docs.scipy.org/doc/numpy/reference/generated/numpy.ndarray.T.html) of matrix `B`:"
   ]
  },
  {
   "cell_type": "code",
   "execution_count": 3,
   "metadata": {
    "collapsed": true
   },
   "outputs": [],
   "source": [
    "B_T = B.T"
   ]
  },
  {
   "cell_type": "code",
   "execution_count": 4,
   "metadata": {
    "collapsed": false,
    "scrolled": true
   },
   "outputs": [
    {
     "data": {
      "text/plain": [
       "array([[3, 2, 3],\n",
       "       [2, 6, 1]])"
      ]
     },
     "execution_count": 4,
     "metadata": {},
     "output_type": "execute_result"
    }
   ],
   "source": [
    "B_T"
   ]
  },
  {
   "cell_type": "markdown",
   "metadata": {},
   "source": [
    "## Support enumeration"
   ]
  },
  {
   "cell_type": "markdown",
   "metadata": {},
   "source": [
    "For each $k = 1, \\ldots, \\min\\{m, n\\}$\n",
    "and each support pair $(I, J)$ with $\\lvert I\\rvert = \\lvert J\\rvert = k$:\n",
    "\n",
    "Solve the systems of linear equations:\n",
    "$$\n",
    "C \\begin{pmatrix} y_J \\\\ u \\end{pmatrix} = e\n",
    "$$\n",
    "and\n",
    "$$\n",
    "D \\begin{pmatrix} x_I \\\\ v \\end{pmatrix} = e\n",
    "$$\n",
    "with\n",
    "$$\n",
    "C =\n",
    " \\begin{pmatrix}\n",
    " A_{IJ} & -\\mathbf{1} \\\\\n",
    " \\mathbf{1}' & 0\n",
    " \\end{pmatrix}, \\quad\n",
    "D =\n",
    " \\begin{pmatrix}\n",
    " B'_{JI} & -\\mathbf{1} \\\\\n",
    " \\mathbf{1}' & 0\n",
    " \\end{pmatrix}, \\quad\n",
    "e = \\begin{pmatrix}\\mathbf{0} \\\\ 1\\end{pmatrix},\n",
    "$$\n",
    "where\n",
    "$A_{IJ}$ is the submatrix of $A$ given by rows $I$ and columns $J$,\n",
    "$B'_{JI}$ is the submatrix of $B'$ given by rows $J$ and columns $I$, and\n",
    "$\\mathbf{0}$ and $\\mathbf{1}$ are the $k$-dimensional vectors of zeros and ones,\n",
    "respectively.\n",
    "\n",
    "Then check that $x_i > 0$ for all $i \\in I$ and $y_j > 0$ for all $j \\in J$, and\n",
    "that\n",
    "$u \\geq (A_J y_J)_i$ for all $i \\notin I$ and\n",
    "$v \\geq (B'_I x_I)_j$ for all $j \\notin J$,\n",
    "where\n",
    "$A_J$ is the submatrix of $A$ given by columns $J$ and\n",
    "$B'_I$ is the submatrix of $B'$ given by columns $I$."
   ]
  },
  {
   "cell_type": "markdown",
   "metadata": {},
   "source": [
    "### Extracting a submatrix"
   ]
  },
  {
   "cell_type": "markdown",
   "metadata": {},
   "source": [
    "Here's how to get the submatrix of $A$ with rows $1$ and $2$ and column $0$, for example."
   ]
  },
  {
   "cell_type": "markdown",
   "metadata": {},
   "source": [
    "Get the submarix $A_{[1, 2]}$ of $A$ with rows $1$ and $2$:"
   ]
  },
  {
   "cell_type": "code",
   "execution_count": 5,
   "metadata": {
    "collapsed": true
   },
   "outputs": [],
   "source": [
    "A_12 = A[[1, 2], :]"
   ]
  },
  {
   "cell_type": "code",
   "execution_count": 6,
   "metadata": {
    "collapsed": false,
    "scrolled": true
   },
   "outputs": [
    {
     "data": {
      "text/plain": [
       "array([[2, 5],\n",
       "       [0, 6]])"
      ]
     },
     "execution_count": 6,
     "metadata": {},
     "output_type": "execute_result"
    }
   ],
   "source": [
    "A_12"
   ]
  },
  {
   "cell_type": "markdown",
   "metadata": {},
   "source": [
    "Get the submatrix $A_{[1, 2], [0]}$ of $A_{[1, 2]}$ with column $0$:"
   ]
  },
  {
   "cell_type": "code",
   "execution_count": 7,
   "metadata": {
    "collapsed": true
   },
   "outputs": [],
   "source": [
    "A_12_0 = A_12[:, [0]]"
   ]
  },
  {
   "cell_type": "code",
   "execution_count": 8,
   "metadata": {
    "collapsed": false
   },
   "outputs": [
    {
     "data": {
      "text/plain": [
       "array([[2],\n",
       "       [0]])"
      ]
     },
     "execution_count": 8,
     "metadata": {},
     "output_type": "execute_result"
    }
   ],
   "source": [
    "A_12_0"
   ]
  },
  {
   "cell_type": "markdown",
   "metadata": {},
   "source": [
    "### Example: $I = \\{0, 1\\}$, $J = \\{0, 1\\}$"
   ]
  },
  {
   "cell_type": "code",
   "execution_count": 9,
   "metadata": {
    "collapsed": true
   },
   "outputs": [],
   "source": [
    "k = 2\n",
    "I = [0, 1]\n",
    "J = [0, 1]"
   ]
  },
  {
   "cell_type": "markdown",
   "metadata": {},
   "source": [
    "Submatrix $A_{IJ}$:"
   ]
  },
  {
   "cell_type": "code",
   "execution_count": 10,
   "metadata": {
    "collapsed": true
   },
   "outputs": [],
   "source": [
    "A_IJ = A[I, :][:, J]"
   ]
  },
  {
   "cell_type": "code",
   "execution_count": 11,
   "metadata": {
    "collapsed": false
   },
   "outputs": [
    {
     "data": {
      "text/plain": [
       "array([[3, 3],\n",
       "       [2, 5]])"
      ]
     },
     "execution_count": 11,
     "metadata": {},
     "output_type": "execute_result"
    }
   ],
   "source": [
    "A_IJ"
   ]
  },
  {
   "cell_type": "markdown",
   "metadata": {},
   "source": [
    "Submatrix $B'_{JI}$:"
   ]
  },
  {
   "cell_type": "code",
   "execution_count": 12,
   "metadata": {
    "collapsed": true
   },
   "outputs": [],
   "source": [
    "B_T_JI = B_T[J, :][:, I]"
   ]
  },
  {
   "cell_type": "code",
   "execution_count": 13,
   "metadata": {
    "collapsed": false
   },
   "outputs": [
    {
     "data": {
      "text/plain": [
       "array([[3, 2],\n",
       "       [2, 6]])"
      ]
     },
     "execution_count": 13,
     "metadata": {},
     "output_type": "execute_result"
    }
   ],
   "source": [
    "B_T_JI"
   ]
  },
  {
   "cell_type": "markdown",
   "metadata": {},
   "source": [
    "Construct the matrices $C$ and $D$ and the vector $e$,\n",
    "and pass them the linear equation solver [`np.linalg.solve`](https://docs.scipy.org/doc/numpy/reference/generated/numpy.linalg.solve.html)."
   ]
  },
  {
   "cell_type": "code",
   "execution_count": null,
   "metadata": {
    "collapsed": true
   },
   "outputs": [],
   "source": []
  }
 ],
 "metadata": {
  "kernelspec": {
   "display_name": "Python 3",
   "language": "python",
   "name": "python3"
  },
  "language_info": {
   "codemirror_mode": {
    "name": "ipython",
    "version": 3
   },
   "file_extension": ".py",
   "mimetype": "text/x-python",
   "name": "python",
   "nbconvert_exporter": "python",
   "pygments_lexer": "ipython3",
   "version": "3.5.2"
  }
 },
 "nbformat": 4,
 "nbformat_minor": 0
}
