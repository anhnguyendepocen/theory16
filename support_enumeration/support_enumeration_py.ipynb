{
 "cells": [
  {
   "cell_type": "markdown",
   "metadata": {},
   "source": [
    "# Implementing Support Enumeration in Python: Solutions"
   ]
  },
  {
   "cell_type": "markdown",
   "metadata": {},
   "source": [
    "## Exercises on NumPy arrays"
   ]
  },
  {
   "cell_type": "markdown",
   "metadata": {},
   "source": [
    "First follow [the lecture](http://lectures.quantecon.org/py/numpy.html) on `NumPy`."
   ]
  },
  {
   "cell_type": "markdown",
   "metadata": {},
   "source": [
    "Import `NumPy`:"
   ]
  },
  {
   "cell_type": "code",
   "execution_count": 1,
   "metadata": {
    "collapsed": true
   },
   "outputs": [],
   "source": [
    "import numpy as np"
   ]
  },
  {
   "cell_type": "markdown",
   "metadata": {},
   "source": [
    "Consider the following 1-dimensional array:"
   ]
  },
  {
   "cell_type": "code",
   "execution_count": 2,
   "metadata": {
    "collapsed": true
   },
   "outputs": [],
   "source": [
    "n = 5\n",
    "a = np.arange(n)"
   ]
  },
  {
   "cell_type": "code",
   "execution_count": 3,
   "metadata": {
    "collapsed": false
   },
   "outputs": [
    {
     "data": {
      "text/plain": [
       "array([0, 1, 2, 3, 4])"
      ]
     },
     "execution_count": 3,
     "metadata": {},
     "output_type": "execute_result"
    }
   ],
   "source": [
    "a"
   ]
  },
  {
   "cell_type": "markdown",
   "metadata": {},
   "source": [
    "Obtain the value in the last entry:"
   ]
  },
  {
   "cell_type": "code",
   "execution_count": 4,
   "metadata": {
    "collapsed": false
   },
   "outputs": [
    {
     "data": {
      "text/plain": [
       "4"
      ]
     },
     "execution_count": 4,
     "metadata": {},
     "output_type": "execute_result"
    }
   ],
   "source": [
    "a[-1]"
   ]
  },
  {
   "cell_type": "markdown",
   "metadata": {},
   "source": [
    "Obtain the values in all entries except the last:"
   ]
  },
  {
   "cell_type": "code",
   "execution_count": 5,
   "metadata": {
    "collapsed": false
   },
   "outputs": [
    {
     "data": {
      "text/plain": [
       "array([0, 1, 2, 3])"
      ]
     },
     "execution_count": 5,
     "metadata": {},
     "output_type": "execute_result"
    }
   ],
   "source": [
    "a[:-1]"
   ]
  },
  {
   "cell_type": "markdown",
   "metadata": {},
   "source": [
    "Assign -10 to the last entry:"
   ]
  },
  {
   "cell_type": "code",
   "execution_count": 6,
   "metadata": {
    "collapsed": true
   },
   "outputs": [],
   "source": [
    "a[:-1] = -10"
   ]
  },
  {
   "cell_type": "code",
   "execution_count": 7,
   "metadata": {
    "collapsed": false
   },
   "outputs": [
    {
     "data": {
      "text/plain": [
       "array([-10, -10, -10, -10,   4])"
      ]
     },
     "execution_count": 7,
     "metadata": {},
     "output_type": "execute_result"
    }
   ],
   "source": [
    "a"
   ]
  },
  {
   "cell_type": "markdown",
   "metadata": {},
   "source": [
    "Next consider the following 2-dimensional array:"
   ]
  },
  {
   "cell_type": "code",
   "execution_count": 8,
   "metadata": {
    "collapsed": true
   },
   "outputs": [],
   "source": [
    "m, n = 3, 3\n",
    "b = np.arange(m*n).reshape(m, n)"
   ]
  },
  {
   "cell_type": "code",
   "execution_count": 9,
   "metadata": {
    "collapsed": false,
    "scrolled": true
   },
   "outputs": [
    {
     "data": {
      "text/plain": [
       "array([[0, 1, 2],\n",
       "       [3, 4, 5],\n",
       "       [6, 7, 8]])"
      ]
     },
     "execution_count": 9,
     "metadata": {},
     "output_type": "execute_result"
    }
   ],
   "source": [
    "b"
   ]
  },
  {
   "cell_type": "markdown",
   "metadata": {},
   "source": [
    "Compute the matrix-vector mutiplication of `b` and `[1/3, 1/3, 1/3]`:"
   ]
  },
  {
   "cell_type": "code",
   "execution_count": 10,
   "metadata": {
    "collapsed": false
   },
   "outputs": [
    {
     "data": {
      "text/plain": [
       "array([ 1.,  4.,  7.])"
      ]
     },
     "execution_count": 10,
     "metadata": {},
     "output_type": "execute_result"
    }
   ],
   "source": [
    "b @ [1/3, 1/3, 1/3]"
   ]
  },
  {
   "cell_type": "markdown",
   "metadata": {},
   "source": [
    "Let"
   ]
  },
  {
   "cell_type": "code",
   "execution_count": 11,
   "metadata": {
    "collapsed": true
   },
   "outputs": [],
   "source": [
    "I = [1, 2]\n",
    "J = [0, 1]"
   ]
  },
  {
   "cell_type": "markdown",
   "metadata": {},
   "source": [
    "We want to obtain the submatrix `b_IJ` of `b` with rows in `I` and columns in `J`."
   ]
  },
  {
   "cell_type": "markdown",
   "metadata": {},
   "source": [
    "Obtain the submatrix `b_I` of `b` with rows in `I`:"
   ]
  },
  {
   "cell_type": "code",
   "execution_count": 12,
   "metadata": {
    "collapsed": true
   },
   "outputs": [],
   "source": [
    "b_I = b[I, :]"
   ]
  },
  {
   "cell_type": "code",
   "execution_count": 13,
   "metadata": {
    "collapsed": false
   },
   "outputs": [
    {
     "data": {
      "text/plain": [
       "array([[3, 4, 5],\n",
       "       [6, 7, 8]])"
      ]
     },
     "execution_count": 13,
     "metadata": {},
     "output_type": "execute_result"
    }
   ],
   "source": [
    "b_I"
   ]
  },
  {
   "cell_type": "markdown",
   "metadata": {},
   "source": [
    "Obtain the submatrix `b_IJ` of `b_I` with columns in `J`:"
   ]
  },
  {
   "cell_type": "code",
   "execution_count": 14,
   "metadata": {
    "collapsed": true
   },
   "outputs": [],
   "source": [
    "b_IJ = b_I[:, J]"
   ]
  },
  {
   "cell_type": "code",
   "execution_count": 15,
   "metadata": {
    "collapsed": false
   },
   "outputs": [
    {
     "data": {
      "text/plain": [
       "array([[3, 4],\n",
       "       [6, 7]])"
      ]
     },
     "execution_count": 15,
     "metadata": {},
     "output_type": "execute_result"
    }
   ],
   "source": [
    "b_IJ"
   ]
  },
  {
   "cell_type": "markdown",
   "metadata": {},
   "source": [
    "Thus, we can obtain `b_IJ` from `b` by:"
   ]
  },
  {
   "cell_type": "code",
   "execution_count": 16,
   "metadata": {
    "collapsed": true
   },
   "outputs": [],
   "source": [
    "b_IJ = b[I, :][:, J]"
   ]
  },
  {
   "cell_type": "code",
   "execution_count": 17,
   "metadata": {
    "collapsed": false
   },
   "outputs": [
    {
     "data": {
      "text/plain": [
       "array([[3, 4],\n",
       "       [6, 7]])"
      ]
     },
     "execution_count": 17,
     "metadata": {},
     "output_type": "execute_result"
    }
   ],
   "source": [
    "b_IJ"
   ]
  },
  {
   "cell_type": "markdown",
   "metadata": {},
   "source": [
    "Assign 100 to the last column of `b`:"
   ]
  },
  {
   "cell_type": "code",
   "execution_count": 18,
   "metadata": {
    "collapsed": false
   },
   "outputs": [],
   "source": [
    "b[:, -1] = 100"
   ]
  },
  {
   "cell_type": "code",
   "execution_count": 19,
   "metadata": {
    "collapsed": false
   },
   "outputs": [
    {
     "data": {
      "text/plain": [
       "array([[  0,   1, 100],\n",
       "       [  3,   4, 100],\n",
       "       [  6,   7, 100]])"
      ]
     },
     "execution_count": 19,
     "metadata": {},
     "output_type": "execute_result"
    }
   ],
   "source": [
    "b"
   ]
  },
  {
   "cell_type": "markdown",
   "metadata": {},
   "source": [
    "Assign -20 to all the entries except those in the last row and the last column:"
   ]
  },
  {
   "cell_type": "code",
   "execution_count": 20,
   "metadata": {
    "collapsed": true
   },
   "outputs": [],
   "source": [
    "b[:-1, :-1] = -20"
   ]
  },
  {
   "cell_type": "code",
   "execution_count": 21,
   "metadata": {
    "collapsed": false
   },
   "outputs": [
    {
     "data": {
      "text/plain": [
       "array([[-20, -20, 100],\n",
       "       [-20, -20, 100],\n",
       "       [  6,   7, 100]])"
      ]
     },
     "execution_count": 21,
     "metadata": {},
     "output_type": "execute_result"
    }
   ],
   "source": [
    "b"
   ]
  },
  {
   "cell_type": "markdown",
   "metadata": {},
   "source": [
    "## Example game"
   ]
  },
  {
   "cell_type": "markdown",
   "metadata": {},
   "source": [
    "Consider the example from von Stengel (2007):\n",
    "$$\n",
    "A =\n",
    "\\begin{bmatrix}\n",
    "3 & 3 \\\\\n",
    "2 & 5 \\\\\n",
    "0 & 6\n",
    "\\end{bmatrix},\n",
    "\\quad\n",
    "B =\n",
    "\\begin{bmatrix}\n",
    "3 & 2 \\\\\n",
    "2 & 6 \\\\\n",
    "3 & 1\n",
    "\\end{bmatrix}.\n",
    "$$"
   ]
  },
  {
   "cell_type": "markdown",
   "metadata": {},
   "source": [
    "It will be convenient to denote the actions by *indices*,\n",
    "so let the action spaces of players 1 and 2 be\n",
    "$$\n",
    "M = \\{0, 1, 2\\}, \\quad\n",
    "N = \\{0, 1\\}.\n",
    "$$\n",
    "(Note that in Python, indices start with 0.)"
   ]
  },
  {
   "cell_type": "markdown",
   "metadata": {},
   "source": [
    "Create NumPy arrays for the payoff matrices:"
   ]
  },
  {
   "cell_type": "code",
   "execution_count": 22,
   "metadata": {
    "collapsed": true
   },
   "outputs": [],
   "source": [
    "A = np.array([[3, 3],\n",
    "              [2, 5],\n",
    "              [0 ,6]])\n",
    "B = np.array([[3, 2],\n",
    "              [2, 6],\n",
    "              [3, 1]])"
   ]
  },
  {
   "cell_type": "code",
   "execution_count": 23,
   "metadata": {
    "collapsed": true
   },
   "outputs": [],
   "source": [
    "m, n = A.shape  # Numbers of actions of players 1 and 2, respectively\n",
    "M = np.arange(m)\n",
    "N = np.arange(n)"
   ]
  },
  {
   "cell_type": "markdown",
   "metadata": {},
   "source": [
    "It will be more convenient to work with the [transpose](http://docs.scipy.org/doc/numpy/reference/generated/numpy.ndarray.T.html) of matrix `B`:"
   ]
  },
  {
   "cell_type": "code",
   "execution_count": 24,
   "metadata": {
    "collapsed": true
   },
   "outputs": [],
   "source": [
    "B_T = B.T"
   ]
  },
  {
   "cell_type": "code",
   "execution_count": 25,
   "metadata": {
    "collapsed": false,
    "scrolled": true
   },
   "outputs": [
    {
     "data": {
      "text/plain": [
       "array([[3, 2, 3],\n",
       "       [2, 6, 1]])"
      ]
     },
     "execution_count": 25,
     "metadata": {},
     "output_type": "execute_result"
    }
   ],
   "source": [
    "B_T"
   ]
  },
  {
   "cell_type": "markdown",
   "metadata": {},
   "source": [
    "## Support enumeration"
   ]
  },
  {
   "cell_type": "markdown",
   "metadata": {},
   "source": [
    "For each $k = 1, \\ldots, \\min\\{m, n\\}$\n",
    "and each support pair $(I, J)$ with $\\lvert I\\rvert = \\lvert J\\rvert = k$:\n",
    "\n",
    "Solve the systems of linear equations:\n",
    "$$\n",
    "C \\begin{pmatrix} y_J \\\\ u \\end{pmatrix} = e\n",
    "$$\n",
    "and\n",
    "$$\n",
    "D \\begin{pmatrix} x_I \\\\ v \\end{pmatrix} = e\n",
    "$$\n",
    "with\n",
    "$$\n",
    "C =\n",
    " \\begin{pmatrix}\n",
    " A_{IJ} & -\\mathbf{1} \\\\\n",
    " \\mathbf{1}' & 0\n",
    " \\end{pmatrix}, \\quad\n",
    "D =\n",
    " \\begin{pmatrix}\n",
    " B'_{JI} & -\\mathbf{1} \\\\\n",
    " \\mathbf{1}' & 0\n",
    " \\end{pmatrix}, \\quad\n",
    "e = \\begin{pmatrix}\\mathbf{0} \\\\ 1\\end{pmatrix},\n",
    "$$\n",
    "where\n",
    "$A_{IJ}$ is the submatrix of $A$ given by rows $I$ and columns $J$,\n",
    "$B'_{JI}$ is the submatrix of $B'$ given by rows $J$ and columns $I$, and\n",
    "$\\mathbf{0}$ and $\\mathbf{1}$ are the $k$-dimensional vectors of zeros and ones,\n",
    "respectively.\n",
    "\n",
    "Then check that $x_i > 0$ for all $i \\in I$ and $y_j > 0$ for all $j \\in J$, and\n",
    "that\n",
    "$u \\geq (A_J y_J)_i$ for all $i \\notin I$ and\n",
    "$v \\geq (B'_I x_I)_j$ for all $j \\notin J$,\n",
    "where\n",
    "$A_J$ is the submatrix of $A$ given by columns $J$ and\n",
    "$B'_I$ is the submatrix of $B'$ given by columns $I$."
   ]
  },
  {
   "cell_type": "markdown",
   "metadata": {},
   "source": [
    "### Example: $I = \\{0, 1\\}$, $J = \\{0, 1\\}$"
   ]
  },
  {
   "cell_type": "markdown",
   "metadata": {},
   "source": [
    "As an example, let $I = \\{0, 1\\} \\subset M$ and $J = \\{0, 1\\} \\subset N$,\n",
    "and get the corresponding submatices of $A$ and $B'$."
   ]
  },
  {
   "cell_type": "code",
   "execution_count": 26,
   "metadata": {
    "collapsed": true
   },
   "outputs": [],
   "source": [
    "k = 2\n",
    "I = [0, 1]\n",
    "J = [0, 1]"
   ]
  },
  {
   "cell_type": "markdown",
   "metadata": {},
   "source": [
    "Submatrix $A_{IJ}$:"
   ]
  },
  {
   "cell_type": "code",
   "execution_count": 27,
   "metadata": {
    "collapsed": true
   },
   "outputs": [],
   "source": [
    "A_IJ = A[I, :][:, J]"
   ]
  },
  {
   "cell_type": "code",
   "execution_count": 28,
   "metadata": {
    "collapsed": false
   },
   "outputs": [
    {
     "data": {
      "text/plain": [
       "array([[3, 3],\n",
       "       [2, 5]])"
      ]
     },
     "execution_count": 28,
     "metadata": {},
     "output_type": "execute_result"
    }
   ],
   "source": [
    "A_IJ"
   ]
  },
  {
   "cell_type": "markdown",
   "metadata": {},
   "source": [
    "Submatrix $B'_{JI}$:"
   ]
  },
  {
   "cell_type": "code",
   "execution_count": 29,
   "metadata": {
    "collapsed": true
   },
   "outputs": [],
   "source": [
    "B_T_JI = B_T[J, :][:, I]"
   ]
  },
  {
   "cell_type": "code",
   "execution_count": 30,
   "metadata": {
    "collapsed": false
   },
   "outputs": [
    {
     "data": {
      "text/plain": [
       "array([[3, 2],\n",
       "       [2, 6]])"
      ]
     },
     "execution_count": 30,
     "metadata": {},
     "output_type": "execute_result"
    }
   ],
   "source": [
    "B_T_JI"
   ]
  },
  {
   "cell_type": "markdown",
   "metadata": {},
   "source": [
    "Construct the matrices $C$ and $D$ and the vector $e$,\n",
    "and pass them the linear equation solver [`np.linalg.solve`](https://docs.scipy.org/doc/numpy/reference/generated/numpy.linalg.solve.html)."
   ]
  },
  {
   "cell_type": "markdown",
   "metadata": {},
   "source": [
    "First construct the vector $e = (0, \\ldots, 0, 1)$:"
   ]
  },
  {
   "cell_type": "code",
   "execution_count": 31,
   "metadata": {
    "collapsed": false
   },
   "outputs": [],
   "source": [
    "e = np.zeros(k+1)  # Vector of zeros of length k+1\n",
    "e[-1] = 1  # Assign 1 to the last entry of e"
   ]
  },
  {
   "cell_type": "code",
   "execution_count": 32,
   "metadata": {
    "collapsed": false
   },
   "outputs": [
    {
     "data": {
      "text/plain": [
       "array([ 0.,  0.,  1.])"
      ]
     },
     "execution_count": 32,
     "metadata": {},
     "output_type": "execute_result"
    }
   ],
   "source": [
    "e"
   ]
  },
  {
   "cell_type": "markdown",
   "metadata": {},
   "source": [
    "Here's how to construct\n",
    "$C =\n",
    " \\begin{pmatrix}\n",
    " A_{IJ} & -\\mathbf{1} \\\\\n",
    " \\mathbf{1}' & 0\n",
    " \\end{pmatrix}$:"
   ]
  },
  {
   "cell_type": "code",
   "execution_count": 33,
   "metadata": {
    "collapsed": true
   },
   "outputs": [],
   "source": [
    "C = np.empty((k+1, k+1))  # Prepare an empty arry of shape (k+1, k+1)\n",
    "C[:-1, :-1] = A_IJ  # Assign A_IJ to the top left k x k submatrix\n",
    "C[-1, :-1] = 1  # Assign 1 to the first k entries of the row at the bottom\n",
    "C[:-1, -1] = -1  # Assign -1 to the first k entries of the right most column\n",
    "C[-1, -1] = 0  # Assign 0 to the bottom right corner"
   ]
  },
  {
   "cell_type": "code",
   "execution_count": 34,
   "metadata": {
    "collapsed": false
   },
   "outputs": [
    {
     "data": {
      "text/plain": [
       "array([[ 3.,  3., -1.],\n",
       "       [ 2.,  5., -1.],\n",
       "       [ 1.,  1.,  0.]])"
      ]
     },
     "execution_count": 34,
     "metadata": {},
     "output_type": "execute_result"
    }
   ],
   "source": [
    "C"
   ]
  },
  {
   "cell_type": "markdown",
   "metadata": {},
   "source": [
    "Now solve the equation $C \\begin{pmatrix} y_J \\\\ u \\end{pmatrix} = e$:"
   ]
  },
  {
   "cell_type": "code",
   "execution_count": 35,
   "metadata": {
    "collapsed": true
   },
   "outputs": [],
   "source": [
    "sol_1 = np.linalg.solve(C, e)"
   ]
  },
  {
   "cell_type": "code",
   "execution_count": 36,
   "metadata": {
    "collapsed": false
   },
   "outputs": [
    {
     "data": {
      "text/plain": [
       "array([ 0.66666667,  0.33333333,  3.        ])"
      ]
     },
     "execution_count": 36,
     "metadata": {},
     "output_type": "execute_result"
    }
   ],
   "source": [
    "sol_1"
   ]
  },
  {
   "cell_type": "markdown",
   "metadata": {},
   "source": [
    "`sol_1[:-1]` corresponds to $y_J$, and `sol_1[-1]` to $u$:"
   ]
  },
  {
   "cell_type": "code",
   "execution_count": 37,
   "metadata": {
    "collapsed": false
   },
   "outputs": [
    {
     "data": {
      "text/plain": [
       "array([ 0.66666667,  0.33333333])"
      ]
     },
     "execution_count": 37,
     "metadata": {},
     "output_type": "execute_result"
    }
   ],
   "source": [
    "y_J = sol_1[:-1]\n",
    "y_J"
   ]
  },
  {
   "cell_type": "code",
   "execution_count": 38,
   "metadata": {
    "collapsed": false
   },
   "outputs": [
    {
     "data": {
      "text/plain": [
       "3.0"
      ]
     },
     "execution_count": 38,
     "metadata": {},
     "output_type": "execute_result"
    }
   ],
   "source": [
    "u = sol_1[-1]\n",
    "u"
   ]
  },
  {
   "cell_type": "markdown",
   "metadata": {},
   "source": [
    "Check that $y_J \\gg 0$:"
   ]
  },
  {
   "cell_type": "code",
   "execution_count": 39,
   "metadata": {
    "collapsed": false
   },
   "outputs": [
    {
     "data": {
      "text/plain": [
       "True"
      ]
     },
     "execution_count": 39,
     "metadata": {},
     "output_type": "execute_result"
    }
   ],
   "source": [
    "(sol_1[:-1] > 0).all()"
   ]
  },
  {
   "cell_type": "code",
   "execution_count": 40,
   "metadata": {
    "collapsed": false
   },
   "outputs": [
    {
     "data": {
      "text/plain": [
       "True"
      ]
     },
     "execution_count": 40,
     "metadata": {},
     "output_type": "execute_result"
    }
   ],
   "source": [
    "(A[[], :] <= sol_1[-1]).all()"
   ]
  },
  {
   "cell_type": "markdown",
   "metadata": {},
   "source": [
    "One way to check that $u \\geq (A_J y_J)_i$ for all $i \\notin I$:"
   ]
  },
  {
   "cell_type": "code",
   "execution_count": 41,
   "metadata": {
    "collapsed": false
   },
   "outputs": [
    {
     "data": {
      "text/plain": [
       "array([ 2.])"
      ]
     },
     "execution_count": 41,
     "metadata": {},
     "output_type": "execute_result"
    }
   ],
   "source": [
    "I_c = np.setdiff1d(M, I)  # Complement of I in M\n",
    "A[I_c, :][:, J] @ y_J  # Vector given by (A_J y_J)_i for i in complement of I"
   ]
  },
  {
   "cell_type": "code",
   "execution_count": 42,
   "metadata": {
    "collapsed": false
   },
   "outputs": [
    {
     "data": {
      "text/plain": [
       "True"
      ]
     },
     "execution_count": 42,
     "metadata": {},
     "output_type": "execute_result"
    }
   ],
   "source": [
    "(u >= A[I_c, :][:, J] @ y_J).all()"
   ]
  },
  {
   "cell_type": "markdown",
   "metadata": {},
   "source": [
    "So this is a candidate for the mixed action for player 2 in an equilibrium:"
   ]
  },
  {
   "cell_type": "code",
   "execution_count": 43,
   "metadata": {
    "collapsed": false
   },
   "outputs": [
    {
     "data": {
      "text/plain": [
       "array([ 0.66666667,  0.33333333])"
      ]
     },
     "execution_count": 43,
     "metadata": {},
     "output_type": "execute_result"
    }
   ],
   "source": [
    "y = np.zeros(n)\n",
    "y[J] = y_J\n",
    "y"
   ]
  },
  {
   "cell_type": "markdown",
   "metadata": {},
   "source": [
    "(`y` is the same as `y_J` because $J = N$,\n",
    "but let's make the code general.)"
   ]
  },
  {
   "cell_type": "markdown",
   "metadata": {},
   "source": [
    "Do the same exercise for player 2:"
   ]
  },
  {
   "cell_type": "markdown",
   "metadata": {},
   "source": [
    "Construct\n",
    "$D =\n",
    " \\begin{pmatrix}\n",
    " B'_{JI} & -\\mathbf{1} \\\\\n",
    " \\mathbf{1}' & 0\n",
    " \\end{pmatrix}$:"
   ]
  },
  {
   "cell_type": "code",
   "execution_count": 44,
   "metadata": {
    "collapsed": true
   },
   "outputs": [],
   "source": [
    "D = np.empty((k+1, k+1))  # Prepare an empty arry of shape (k+1, k+1)\n",
    "D[:-1, :-1] = B_T_JI  # Assign A_IJ to the top left k x k submatrix\n",
    "D[-1, :-1] = 1  # Assign 1 to the first k entries of the row at the bottom\n",
    "D[:-1, -1] = -1  # Assign -1 to the first k entries of the right most column\n",
    "D[-1, -1] = 0  # Assign 0 to the bottom right corner"
   ]
  },
  {
   "cell_type": "code",
   "execution_count": 45,
   "metadata": {
    "collapsed": false
   },
   "outputs": [
    {
     "data": {
      "text/plain": [
       "array([[ 3.,  2., -1.],\n",
       "       [ 2.,  6., -1.],\n",
       "       [ 1.,  1.,  0.]])"
      ]
     },
     "execution_count": 45,
     "metadata": {},
     "output_type": "execute_result"
    }
   ],
   "source": [
    "D"
   ]
  },
  {
   "cell_type": "markdown",
   "metadata": {},
   "source": [
    "Solve $D \\begin{pmatrix} x_I \\\\ v \\end{pmatrix} = e$:"
   ]
  },
  {
   "cell_type": "code",
   "execution_count": 46,
   "metadata": {
    "collapsed": false
   },
   "outputs": [
    {
     "data": {
      "text/plain": [
       "array([ 0.8,  0.2,  2.8])"
      ]
     },
     "execution_count": 46,
     "metadata": {},
     "output_type": "execute_result"
    }
   ],
   "source": [
    "sol_2 = np.linalg.solve(D, e)\n",
    "sol_2"
   ]
  },
  {
   "cell_type": "markdown",
   "metadata": {},
   "source": [
    "Check that $x_I \\gg 0$:"
   ]
  },
  {
   "cell_type": "code",
   "execution_count": 47,
   "metadata": {
    "collapsed": false
   },
   "outputs": [
    {
     "data": {
      "text/plain": [
       "True"
      ]
     },
     "execution_count": 47,
     "metadata": {},
     "output_type": "execute_result"
    }
   ],
   "source": [
    "(sol_2[:-1] > 0).all()"
   ]
  },
  {
   "cell_type": "markdown",
   "metadata": {},
   "source": [
    "Check that $v \\geq (B'_I x_I)_j$ for all $j \\notin J$:"
   ]
  },
  {
   "cell_type": "code",
   "execution_count": 48,
   "metadata": {
    "collapsed": false
   },
   "outputs": [
    {
     "data": {
      "text/plain": [
       "True"
      ]
     },
     "execution_count": 48,
     "metadata": {},
     "output_type": "execute_result"
    }
   ],
   "source": [
    "J_c = np.setdiff1d(N, J)\n",
    "(sol_2[-1] >= B[J_c, :][:, I] @ sol_2[:-1]).all()"
   ]
  },
  {
   "cell_type": "markdown",
   "metadata": {},
   "source": [
    "So this is an equilibrium mixed action for player 1:"
   ]
  },
  {
   "cell_type": "code",
   "execution_count": 49,
   "metadata": {
    "collapsed": false
   },
   "outputs": [
    {
     "data": {
      "text/plain": [
       "array([ 0.8,  0.2,  0. ])"
      ]
     },
     "execution_count": 49,
     "metadata": {},
     "output_type": "execute_result"
    }
   ],
   "source": [
    "x = np.zeros(m)\n",
    "x[I] = sol_2[:-1]\n",
    "x"
   ]
  },
  {
   "cell_type": "markdown",
   "metadata": {},
   "source": [
    "We have found a Nash equilibrium:"
   ]
  },
  {
   "cell_type": "code",
   "execution_count": 50,
   "metadata": {
    "collapsed": false
   },
   "outputs": [
    {
     "data": {
      "text/plain": [
       "(array([ 0.8,  0.2,  0. ]), array([ 0.66666667,  0.33333333]))"
      ]
     },
     "execution_count": 50,
     "metadata": {},
     "output_type": "execute_result"
    }
   ],
   "source": [
    "(x, y)"
   ]
  },
  {
   "cell_type": "markdown",
   "metadata": {},
   "source": [
    "### Example: $I = \\{0, 2\\}$, $J = \\{0, 1\\}$"
   ]
  },
  {
   "cell_type": "markdown",
   "metadata": {},
   "source": [
    "Let's do the same exercise for $I = \\{0, 2\\}$ and $J = \\{0, 1\\}$."
   ]
  },
  {
   "cell_type": "code",
   "execution_count": 51,
   "metadata": {
    "collapsed": true
   },
   "outputs": [],
   "source": [
    "k = 2\n",
    "I = [0, 2]\n",
    "J = [0, 1]"
   ]
  },
  {
   "cell_type": "markdown",
   "metadata": {},
   "source": [
    "To get the matrix `C`, let's use the previous `C`,\n",
    "just replacing the submatrix in `C[:-1, :-1]`:"
   ]
  },
  {
   "cell_type": "code",
   "execution_count": 52,
   "metadata": {
    "collapsed": true
   },
   "outputs": [],
   "source": [
    "C[:-1, :-1] = A[I, :][:, J]"
   ]
  },
  {
   "cell_type": "code",
   "execution_count": 53,
   "metadata": {
    "collapsed": false
   },
   "outputs": [
    {
     "data": {
      "text/plain": [
       "array([[ 3.,  3., -1.],\n",
       "       [ 0.,  6., -1.],\n",
       "       [ 1.,  1.,  0.]])"
      ]
     },
     "execution_count": 53,
     "metadata": {},
     "output_type": "execute_result"
    }
   ],
   "source": [
    "C"
   ]
  },
  {
   "cell_type": "code",
   "execution_count": 54,
   "metadata": {
    "collapsed": true
   },
   "outputs": [],
   "source": [
    "sol_1 = np.linalg.solve(C, e)"
   ]
  },
  {
   "cell_type": "code",
   "execution_count": 55,
   "metadata": {
    "collapsed": false
   },
   "outputs": [
    {
     "data": {
      "text/plain": [
       "array([ 0.5,  0.5,  3. ])"
      ]
     },
     "execution_count": 55,
     "metadata": {},
     "output_type": "execute_result"
    }
   ],
   "source": [
    "sol_1"
   ]
  },
  {
   "cell_type": "markdown",
   "metadata": {},
   "source": [
    "Check the positivity:"
   ]
  },
  {
   "cell_type": "code",
   "execution_count": 56,
   "metadata": {
    "collapsed": false
   },
   "outputs": [
    {
     "data": {
      "text/plain": [
       "True"
      ]
     },
     "execution_count": 56,
     "metadata": {},
     "output_type": "execute_result"
    }
   ],
   "source": [
    "(sol_1[:-1] > 0).all()"
   ]
  },
  {
   "cell_type": "markdown",
   "metadata": {},
   "source": [
    "Check the optimality:"
   ]
  },
  {
   "cell_type": "code",
   "execution_count": 57,
   "metadata": {
    "collapsed": false
   },
   "outputs": [
    {
     "data": {
      "text/plain": [
       "False"
      ]
     },
     "execution_count": 57,
     "metadata": {},
     "output_type": "execute_result"
    }
   ],
   "source": [
    "I_c = np.setdiff1d(M, I)\n",
    "(sol_1[-1] >= A[I_c, :][:, J] @ sol_1[:-1]).all()"
   ]
  },
  {
   "cell_type": "markdown",
   "metadata": {},
   "source": [
    "This means that $v \\neq \\max_i (A_J y_J)_i$."
   ]
  },
  {
   "cell_type": "markdown",
   "metadata": {},
   "source": [
    "So this implies that there is no Nash equilibrium for the support pair $(I, J)$.\n",
    "But let's just check also the conditions for player 2."
   ]
  },
  {
   "cell_type": "code",
   "execution_count": 58,
   "metadata": {
    "collapsed": true
   },
   "outputs": [],
   "source": [
    "D[:-1, :-1] = B_T[J, :][:, I]"
   ]
  },
  {
   "cell_type": "code",
   "execution_count": 59,
   "metadata": {
    "collapsed": false
   },
   "outputs": [
    {
     "data": {
      "text/plain": [
       "array([[ 3.,  3., -1.],\n",
       "       [ 2.,  1., -1.],\n",
       "       [ 1.,  1.,  0.]])"
      ]
     },
     "execution_count": 59,
     "metadata": {},
     "output_type": "execute_result"
    }
   ],
   "source": [
    "D"
   ]
  },
  {
   "cell_type": "code",
   "execution_count": 60,
   "metadata": {
    "collapsed": false
   },
   "outputs": [
    {
     "data": {
      "text/plain": [
       "array([ 2., -1.,  3.])"
      ]
     },
     "execution_count": 60,
     "metadata": {},
     "output_type": "execute_result"
    }
   ],
   "source": [
    "sol_2 = np.linalg.solve(D, e)\n",
    "sol_2"
   ]
  },
  {
   "cell_type": "code",
   "execution_count": 61,
   "metadata": {
    "collapsed": false
   },
   "outputs": [
    {
     "data": {
      "text/plain": [
       "False"
      ]
     },
     "execution_count": 61,
     "metadata": {},
     "output_type": "execute_result"
    }
   ],
   "source": [
    "(sol_2[:-1] > 0).all()"
   ]
  },
  {
   "cell_type": "markdown",
   "metadata": {},
   "source": [
    "This means that the solution cannot be a probability distribution."
   ]
  },
  {
   "cell_type": "markdown",
   "metadata": {},
   "source": [
    "## Wrap the procedure in a function"
   ]
  },
  {
   "cell_type": "markdown",
   "metadata": {},
   "source": [
    "Let's write a function that wraps the above procedure."
   ]
  },
  {
   "cell_type": "markdown",
   "metadata": {},
   "source": [
    "The following is just one possible implementation design:\n",
    "\n",
    "* The arguments are\n",
    "  * numpy array `payoff_matrix`;\n",
    "  * list (or numpy array) `own_supp` for the support of the player in consideration;\n",
    "  * list (or numpy array) `opp_supp` for the support of the opponent player;\n",
    "  * numpy array `out` that stores the candidate mixed action.\n",
    "* If there is a mixed action of the opponent with support `opp_supp`\n",
    "  against which the actions in `own_supp` are best responses,\n",
    "  then return `True`; otherwise return `False`.\n",
    "  In the former case, the mixed action is stored in `out`.\n",
    "* Array `out` must be of length equal to the number of the opponent's actions."
   ]
  },
  {
   "cell_type": "code",
   "execution_count": 62,
   "metadata": {
    "collapsed": false
   },
   "outputs": [],
   "source": [
    "def indiff_mixed_action(payoff_matrix, own_supp, opp_supp, out):\n",
    "    # (number of own actions, number of opponent's actions)\n",
    "    nums_actions = payoff_matrix.shape\n",
    "    \n",
    "    # Support size\n",
    "    k = len(own_supp)\n",
    "    \n",
    "    # Matrix in the left hand side of the linear equation\n",
    "    a = np.empty((k+1, k+1))\n",
    "    a[:-1, :-1] = payoff_matrix[own_supp, :][:, opp_supp]\n",
    "    a[-1, :-1] = 1\n",
    "    a[:-1, -1] = -1\n",
    "    a[-1, -1] = 0\n",
    "    \n",
    "    # Vector in the right hand side of the linear equation\n",
    "    b = np.zeros(k+1)\n",
    "    b[-1] = 1\n",
    "    \n",
    "    try:\n",
    "        sol = np.linalg.solve(a, b)\n",
    "    except np.linalg.LinAlgError:\n",
    "        return False\n",
    "    \n",
    "    # Return False immediately if any of the \"probabilities\" is not positive\n",
    "    if (sol[:-1] <= 0).any():\n",
    "        return False\n",
    "    \n",
    "    own_supp_c = np.setdiff1d(np.arange(nums_actions[0]), own_supp)\n",
    "    # Return False immediately if the solution mixed action is not optimal\n",
    "    if (sol[-1] < payoff_matrix[own_supp_c, :][:, opp_supp] @ sol[:-1]).any():\n",
    "        return False\n",
    "    \n",
    "    out.fill(0)\n",
    "    out[opp_supp] = sol[:-1]\n",
    "    return True"
   ]
  },
  {
   "cell_type": "code",
   "execution_count": 63,
   "metadata": {
    "collapsed": true
   },
   "outputs": [],
   "source": [
    "I = [0, 1]\n",
    "J = [0, 1]"
   ]
  },
  {
   "cell_type": "code",
   "execution_count": 64,
   "metadata": {
    "collapsed": false
   },
   "outputs": [
    {
     "data": {
      "text/plain": [
       "True"
      ]
     },
     "execution_count": 64,
     "metadata": {},
     "output_type": "execute_result"
    }
   ],
   "source": [
    "out = np.empty(n)\n",
    "indiff_mixed_action(A, I, J, out)"
   ]
  },
  {
   "cell_type": "code",
   "execution_count": 65,
   "metadata": {
    "collapsed": false
   },
   "outputs": [
    {
     "data": {
      "text/plain": [
       "array([ 0.66666667,  0.33333333])"
      ]
     },
     "execution_count": 65,
     "metadata": {},
     "output_type": "execute_result"
    }
   ],
   "source": [
    "out"
   ]
  },
  {
   "cell_type": "code",
   "execution_count": 66,
   "metadata": {
    "collapsed": false
   },
   "outputs": [
    {
     "data": {
      "text/plain": [
       "True"
      ]
     },
     "execution_count": 66,
     "metadata": {},
     "output_type": "execute_result"
    }
   ],
   "source": [
    "out = np.empty(m)\n",
    "indiff_mixed_action(B_T, J, I, out)"
   ]
  },
  {
   "cell_type": "code",
   "execution_count": 67,
   "metadata": {
    "collapsed": false
   },
   "outputs": [
    {
     "data": {
      "text/plain": [
       "array([ 0.8,  0.2,  0. ])"
      ]
     },
     "execution_count": 67,
     "metadata": {},
     "output_type": "execute_result"
    }
   ],
   "source": [
    "out"
   ]
  },
  {
   "cell_type": "code",
   "execution_count": 68,
   "metadata": {
    "collapsed": true
   },
   "outputs": [],
   "source": [
    "I = [0, 2]\n",
    "J = [0, 1]"
   ]
  },
  {
   "cell_type": "code",
   "execution_count": 69,
   "metadata": {
    "collapsed": false
   },
   "outputs": [
    {
     "data": {
      "text/plain": [
       "False"
      ]
     },
     "execution_count": 69,
     "metadata": {},
     "output_type": "execute_result"
    }
   ],
   "source": [
    "out = np.empty(n)\n",
    "indiff_mixed_action(A, I, J, out)"
   ]
  },
  {
   "cell_type": "code",
   "execution_count": 70,
   "metadata": {
    "collapsed": false
   },
   "outputs": [
    {
     "data": {
      "text/plain": [
       "False"
      ]
     },
     "execution_count": 70,
     "metadata": {},
     "output_type": "execute_result"
    }
   ],
   "source": [
    "out = np.empty(m)\n",
    "indiff_mixed_action(B_T, J, I, out)"
   ]
  },
  {
   "cell_type": "markdown",
   "metadata": {},
   "source": [
    "Note on the `try`-`except` block:\n",
    "\n",
    "There are cases where the coeffiecient matrix in the linear equation is singular,\n",
    "in which case `np.linalg.solve(a, b)` raises an error [`np.linalg.LinAlgError`](http://docs.scipy.org/doc/numpy/reference/generated/numpy.linalg.LinAlgError.html).\n",
    "For example:"
   ]
  },
  {
   "cell_type": "code",
   "execution_count": 71,
   "metadata": {
    "collapsed": false
   },
   "outputs": [
    {
     "ename": "LinAlgError",
     "evalue": "Singular matrix",
     "output_type": "error",
     "traceback": [
      "\u001b[0;31m---------------------------------------------------------------------------\u001b[0m",
      "\u001b[0;31mLinAlgError\u001b[0m                               Traceback (most recent call last)",
      "\u001b[0;32m<ipython-input-71-7761d3de4fed>\u001b[0m in \u001b[0;36m<module>\u001b[0;34m()\u001b[0m\n\u001b[0;32m----> 1\u001b[0;31m \u001b[0mnp\u001b[0m\u001b[0;34m.\u001b[0m\u001b[0mlinalg\u001b[0m\u001b[0;34m.\u001b[0m\u001b[0msolve\u001b[0m\u001b[0;34m(\u001b[0m\u001b[0mnp\u001b[0m\u001b[0;34m.\u001b[0m\u001b[0mzeros\u001b[0m\u001b[0;34m(\u001b[0m\u001b[0;34m(\u001b[0m\u001b[0;36m2\u001b[0m\u001b[0;34m,\u001b[0m \u001b[0;36m2\u001b[0m\u001b[0;34m)\u001b[0m\u001b[0;34m)\u001b[0m\u001b[0;34m,\u001b[0m \u001b[0mnp\u001b[0m\u001b[0;34m.\u001b[0m\u001b[0mones\u001b[0m\u001b[0;34m(\u001b[0m\u001b[0;36m2\u001b[0m\u001b[0;34m)\u001b[0m\u001b[0;34m)\u001b[0m\u001b[0;34m\u001b[0m\u001b[0m\n\u001b[0m",
      "\u001b[0;32m/Applications/anaconda/lib/python3.5/site-packages/numpy/linalg/linalg.py\u001b[0m in \u001b[0;36msolve\u001b[0;34m(a, b)\u001b[0m\n\u001b[1;32m    382\u001b[0m     \u001b[0msignature\u001b[0m \u001b[0;34m=\u001b[0m \u001b[0;34m'DD->D'\u001b[0m \u001b[0;32mif\u001b[0m \u001b[0misComplexType\u001b[0m\u001b[0;34m(\u001b[0m\u001b[0mt\u001b[0m\u001b[0;34m)\u001b[0m \u001b[0;32melse\u001b[0m \u001b[0;34m'dd->d'\u001b[0m\u001b[0;34m\u001b[0m\u001b[0m\n\u001b[1;32m    383\u001b[0m     \u001b[0mextobj\u001b[0m \u001b[0;34m=\u001b[0m \u001b[0mget_linalg_error_extobj\u001b[0m\u001b[0;34m(\u001b[0m\u001b[0m_raise_linalgerror_singular\u001b[0m\u001b[0;34m)\u001b[0m\u001b[0;34m\u001b[0m\u001b[0m\n\u001b[0;32m--> 384\u001b[0;31m     \u001b[0mr\u001b[0m \u001b[0;34m=\u001b[0m \u001b[0mgufunc\u001b[0m\u001b[0;34m(\u001b[0m\u001b[0ma\u001b[0m\u001b[0;34m,\u001b[0m \u001b[0mb\u001b[0m\u001b[0;34m,\u001b[0m \u001b[0msignature\u001b[0m\u001b[0;34m=\u001b[0m\u001b[0msignature\u001b[0m\u001b[0;34m,\u001b[0m \u001b[0mextobj\u001b[0m\u001b[0;34m=\u001b[0m\u001b[0mextobj\u001b[0m\u001b[0;34m)\u001b[0m\u001b[0;34m\u001b[0m\u001b[0m\n\u001b[0m\u001b[1;32m    385\u001b[0m \u001b[0;34m\u001b[0m\u001b[0m\n\u001b[1;32m    386\u001b[0m     \u001b[0;32mreturn\u001b[0m \u001b[0mwrap\u001b[0m\u001b[0;34m(\u001b[0m\u001b[0mr\u001b[0m\u001b[0;34m.\u001b[0m\u001b[0mastype\u001b[0m\u001b[0;34m(\u001b[0m\u001b[0mresult_t\u001b[0m\u001b[0;34m,\u001b[0m \u001b[0mcopy\u001b[0m\u001b[0;34m=\u001b[0m\u001b[0;32mFalse\u001b[0m\u001b[0;34m)\u001b[0m\u001b[0;34m)\u001b[0m\u001b[0;34m\u001b[0m\u001b[0m\n",
      "\u001b[0;32m/Applications/anaconda/lib/python3.5/site-packages/numpy/linalg/linalg.py\u001b[0m in \u001b[0;36m_raise_linalgerror_singular\u001b[0;34m(err, flag)\u001b[0m\n\u001b[1;32m     88\u001b[0m \u001b[0;34m\u001b[0m\u001b[0m\n\u001b[1;32m     89\u001b[0m \u001b[0;32mdef\u001b[0m \u001b[0m_raise_linalgerror_singular\u001b[0m\u001b[0;34m(\u001b[0m\u001b[0merr\u001b[0m\u001b[0;34m,\u001b[0m \u001b[0mflag\u001b[0m\u001b[0;34m)\u001b[0m\u001b[0;34m:\u001b[0m\u001b[0;34m\u001b[0m\u001b[0m\n\u001b[0;32m---> 90\u001b[0;31m     \u001b[0;32mraise\u001b[0m \u001b[0mLinAlgError\u001b[0m\u001b[0;34m(\u001b[0m\u001b[0;34m\"Singular matrix\"\u001b[0m\u001b[0;34m)\u001b[0m\u001b[0;34m\u001b[0m\u001b[0m\n\u001b[0m\u001b[1;32m     91\u001b[0m \u001b[0;34m\u001b[0m\u001b[0m\n\u001b[1;32m     92\u001b[0m \u001b[0;32mdef\u001b[0m \u001b[0m_raise_linalgerror_nonposdef\u001b[0m\u001b[0;34m(\u001b[0m\u001b[0merr\u001b[0m\u001b[0;34m,\u001b[0m \u001b[0mflag\u001b[0m\u001b[0;34m)\u001b[0m\u001b[0;34m:\u001b[0m\u001b[0;34m\u001b[0m\u001b[0m\n",
      "\u001b[0;31mLinAlgError\u001b[0m: Singular matrix"
     ]
    }
   ],
   "source": [
    "np.linalg.solve(np.zeros((2, 2)), np.ones(2))"
   ]
  },
  {
   "cell_type": "markdown",
   "metadata": {},
   "source": [
    "If this happens, the program stops.\n",
    "But singularity just implies that there is no Nash equilibrium for the given support pair,\n",
    "so we want to just return `False` without stopping the program.\n",
    "A `try`-`except` statement can be used for this purpose;\n",
    "see [this section](https://docs.python.org/3.5/tutorial/errors.html#handling-exceptions)\n",
    "in the Python tutorial."
   ]
  },
  {
   "cell_type": "markdown",
   "metadata": {},
   "source": [
    "## Main loop"
   ]
  },
  {
   "cell_type": "markdown",
   "metadata": {},
   "source": [
    "In the final step,\n",
    "we need a loop interating over all the equal-size support pairs\n",
    "in which `indiff_mixed_action` is applied to each pair."
   ]
  },
  {
   "cell_type": "markdown",
   "metadata": {},
   "source": [
    "One approach is to use [`itertools.combinations`](https://docs.python.org/3.5/library/itertools.html#itertools.combinations):"
   ]
  },
  {
   "cell_type": "code",
   "execution_count": 72,
   "metadata": {
    "collapsed": true
   },
   "outputs": [],
   "source": [
    "import itertools"
   ]
  },
  {
   "cell_type": "code",
   "execution_count": 73,
   "metadata": {
    "collapsed": false,
    "scrolled": true
   },
   "outputs": [
    {
     "name": "stdout",
     "output_type": "stream",
     "text": [
      "((0, 1), (0, 1))\n",
      "((0, 1), (0, 2))\n",
      "((0, 1), (1, 2))\n",
      "((0, 2), (0, 1))\n",
      "((0, 2), (0, 2))\n",
      "((0, 2), (1, 2))\n",
      "((1, 2), (0, 1))\n",
      "((1, 2), (0, 2))\n",
      "((1, 2), (1, 2))\n"
     ]
    }
   ],
   "source": [
    "m, n = 3, 3\n",
    "k = 2\n",
    "for I in itertools.combinations(range(m), k):\n",
    "    for J in itertools.combinations(range(n), k):\n",
    "        print((I, J))"
   ]
  },
  {
   "cell_type": "code",
   "execution_count": 74,
   "metadata": {
    "collapsed": true
   },
   "outputs": [],
   "source": [
    "def support_enumeration(A, B_T):\n",
    "    \"\"\"\n",
    "    Given a nondegenerate m x n bimatrix game (A, B_T), return a list of\n",
    "    all Nash equilibria computed by the support enumeration algorithm.\n",
    "    \n",
    "    Parameters\n",
    "    ----------\n",
    "    A : ndarray(float, ndim=2)\n",
    "        Payoff matrix for player 1, of shape (m, n).\n",
    "    \n",
    "    B_T : ndarray(float, ndim=2)\n",
    "        Payoff matrix for player 2, of shape (n, m).\n",
    "        \n",
    "    Returns\n",
    "    -------\n",
    "    NEs : list(tuple(ndarray(float, ndim=1)))\n",
    "        List containing tuples of Nash equilibrium mixed actions.\n",
    "    \n",
    "    \"\"\"\n",
    "    m, n = A.shape\n",
    "    NEs = []\n",
    "    for k in range(1, min(m, n)+1):\n",
    "        for I in itertools.combinations(range(m), k):\n",
    "            for J in itertools.combinations(range(n), k):\n",
    "                y = np.empty(n)\n",
    "                if indiff_mixed_action(A, list(I), list(J), y):\n",
    "                    x = np.empty(m)\n",
    "                    if indiff_mixed_action(B_T, list(J), list(I), x):\n",
    "                        NEs.append((x, y))\n",
    "    return NEs"
   ]
  },
  {
   "cell_type": "code",
   "execution_count": 75,
   "metadata": {
    "collapsed": false,
    "scrolled": true
   },
   "outputs": [
    {
     "data": {
      "text/plain": [
       "[(array([ 1.,  0.,  0.]), array([ 1.,  0.])),\n",
       " (array([ 0.8,  0.2,  0. ]), array([ 0.66666667,  0.33333333])),\n",
       " (array([ 0.        ,  0.33333333,  0.66666667]),\n",
       "  array([ 0.33333333,  0.66666667]))]"
      ]
     },
     "execution_count": 75,
     "metadata": {},
     "output_type": "execute_result"
    }
   ],
   "source": [
    "support_enumeration(A, B_T)"
   ]
  },
  {
   "cell_type": "markdown",
   "metadata": {},
   "source": [
    "* The strings in the block with quotes `\"\"\"` are called \"docstrings\",\n",
    "  which offer a description about how the function works.\n",
    "  It is a good practice to always write docstrings, which often times helps yourself in the future;\n",
    "  it is very likely that you will forget what you have written in the past.\n",
    "  (I should provide docstrings for the function `indiff_mixed_action`, too.)\n",
    "  Refer to the [docstring guideline](http://quantecon.org/wiki_py_docstrings.html) from `QuantEcon.py`.\n",
    "* Tuples of Nash equilibrium actions computed by `indiff_mixed_action` are appended to the list `NEs`,\n",
    "  which starts with an empty list `[]`.\n",
    "* `itertools.combinations` yields tuples,\n",
    "  so that they have to be converted to lists by `list(I)` and `list(J)`."
   ]
  },
  {
   "cell_type": "markdown",
   "metadata": {},
   "source": [
    "## Question"
   ]
  },
  {
   "cell_type": "markdown",
   "metadata": {},
   "source": [
    "Consider the $6 \\times 6$ game from\n",
    "von Stengel (1997)\n",
    "\"[New Lower Bounds for the Number of Equilibria in Bimatrix Games](http://www.maths.lse.ac.uk/personal/stengel/TEXTE/264.pdf),\" page 12:"
   ]
  },
  {
   "cell_type": "code",
   "execution_count": 76,
   "metadata": {
    "collapsed": true
   },
   "outputs": [],
   "source": [
    "A = np.array(\n",
    "    [[    9504,     -660,    19976,   -20526,     1776,    -8976],\n",
    "     [ -111771,    31680,  -130944,   168124,    -8514,    52764],\n",
    "     [  397584,  -113850,   451176,  -586476,    29216,  -178761],\n",
    "     [  171204,   -45936,   208626,  -263076,    14124,   -84436],\n",
    "     [ 1303104,  -453420,  1227336, -1718376,    72336,  -461736],\n",
    "     [  737154,  -227040,   774576, -1039236,    48081,  -300036]]\n",
    ")\n",
    "B_T = np.array(\n",
    "    [[   72336,  -461736,  1227336, -1718376,  1303104,  -453420],\n",
    "     [   48081,  -300036,   774576, -1039236,   737154,  -227040],\n",
    "     [   29216,  -178761,   451176,  -586476,   397584,  -113850],\n",
    "     [   14124,   -84436,   208626,  -263076,   171204,   -45936],\n",
    "     [    1776,    -8976,    19976,   -20526,     9504,     -660],\n",
    "     [   -8514,    52764,  -130944,   168124,  -111771,    31680]]\n",
    ")"
   ]
  },
  {
   "cell_type": "markdown",
   "metadata": {},
   "source": [
    "Count the number of Nash equilibria of this game."
   ]
  },
  {
   "cell_type": "code",
   "execution_count": 77,
   "metadata": {
    "collapsed": false
   },
   "outputs": [
    {
     "data": {
      "text/plain": [
       "75"
      ]
     },
     "execution_count": 77,
     "metadata": {},
     "output_type": "execute_result"
    }
   ],
   "source": [
    "len(support_enumeration(A, B_T))"
   ]
  },
  {
   "cell_type": "markdown",
   "metadata": {},
   "source": [
    "Background:\n",
    "\n",
    "The $n \\times n$ game where the payoff matrices are given by the identy matrix has $2^n - 1$ equilibria.\n",
    "It had been conjectured by Quint and Shubik (1997) that this is the maximum number of equilibria\n",
    "of any nondegenerate $n \\times n$ game.\n",
    "The game above was presented as a counter-example to this conjecture."
   ]
  },
  {
   "cell_type": "code",
   "execution_count": null,
   "metadata": {
    "collapsed": true
   },
   "outputs": [],
   "source": []
  }
 ],
 "metadata": {
  "anaconda-cloud": {},
  "kernelspec": {
   "display_name": "Python [Root]",
   "language": "python",
   "name": "Python [Root]"
  },
  "language_info": {
   "codemirror_mode": {
    "name": "ipython",
    "version": 3
   },
   "file_extension": ".py",
   "mimetype": "text/x-python",
   "name": "python",
   "nbconvert_exporter": "python",
   "pygments_lexer": "ipython3",
   "version": "3.5.2"
  }
 },
 "nbformat": 4,
 "nbformat_minor": 0
}
