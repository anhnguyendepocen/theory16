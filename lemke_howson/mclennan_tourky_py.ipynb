{
 "cells": [
  {
   "cell_type": "markdown",
   "metadata": {},
   "source": [
    "# Implementing McLennan-Tourky in Python"
   ]
  },
  {
   "cell_type": "markdown",
   "metadata": {},
   "source": [
    "**Daisuke Oyama**  \n",
    "*Faculty of Economics, University of Tokyo*"
   ]
  },
  {
   "cell_type": "code",
   "execution_count": 1,
   "metadata": {
    "collapsed": true
   },
   "outputs": [],
   "source": [
    "%matplotlib inline"
   ]
  },
  {
   "cell_type": "code",
   "execution_count": 2,
   "metadata": {
    "collapsed": true
   },
   "outputs": [],
   "source": [
    "import time\n",
    "import numpy as np\n",
    "import matplotlib.pyplot as plt\n",
    "import quantecon as qe\n",
    "from quantecon.compute_fp import _print_after_skip\n",
    "from quantecon.game_theory import Player, NormalFormGame, lemke_howson"
   ]
  },
  {
   "cell_type": "code",
   "execution_count": 3,
   "metadata": {
    "collapsed": true
   },
   "outputs": [],
   "source": [
    "def compute_fixed_point_ig(f, x_init, error_tol=1e-3, max_iter=50, verbose=1,\n",
    "                           *args, **kwargs):\n",
    "    _skip = 1\n",
    "    if verbose:\n",
    "        start_time = time.time()\n",
    "        _print_after_skip(_skip, it=None)\n",
    "        \n",
    "    x_new = x_init\n",
    "    iterate = 0\n",
    "    y_new = f(x_new, *args, **kwargs)\n",
    "    error = np.max(np.abs(y_new - x_new))\n",
    "    \n",
    "    if error <= error_tol or iterate >= max_iter:\n",
    "        if verbose:\n",
    "            etime = time.time() - start_time\n",
    "            _print_after_skip(_skip, iterate, error, etime)\n",
    "        return x_new\n",
    "    \n",
    "    X = np.array([x_new])\n",
    "    Y = np.array([y_new])\n",
    "    x_new = Y[0]\n",
    "    iterate += 1\n",
    "    \n",
    "    while True:\n",
    "        y_new = f(x_new, *args, **kwargs)\n",
    "        error = np.max(np.abs(y_new - x_new))\n",
    "        if error <= error_tol or iterate >= max_iter:\n",
    "            break\n",
    "            \n",
    "        X = np.append(X, np.expand_dims(x_new, axis=0), axis=0)\n",
    "        Y = np.append(Y, np.expand_dims(y_new, axis=0), axis=0)\n",
    "        \n",
    "        m = len(X)\n",
    "        D = np.expand_dims(X, axis=1) - Y\n",
    "        D *= D\n",
    "        A = np.add.reduce(np.atleast_3d(D), axis=-1) * (-1)\n",
    "        B = np.identity(m)\n",
    "        g = NormalFormGame((Player(A), Player(B)))\n",
    "        _, rho = lemke_howson(g, init_pivot=m-1)\n",
    "        \n",
    "        x_new = rho.dot(Y)\n",
    "        iterate += 1\n",
    "    \n",
    "    if verbose:\n",
    "        etime = time.time() - start_time\n",
    "        _print_after_skip(_skip, iterate, error, etime)\n",
    "        \n",
    "    return x_new"
   ]
  },
  {
   "cell_type": "markdown",
   "metadata": {},
   "source": [
    "## Univariate example"
   ]
  },
  {
   "cell_type": "code",
   "execution_count": 4,
   "metadata": {
    "collapsed": false,
    "scrolled": false
   },
   "outputs": [
    {
     "name": "stdout",
     "output_type": "stream",
     "text": [
      "Iteration    Distance       Elapsed (seconds)\n",
      "---------------------------------------------\n",
      "9            9.766e-04      1.243e+00         \n"
     ]
    },
    {
     "data": {
      "text/plain": [
       "0.001953125"
      ]
     },
     "execution_count": 4,
     "metadata": {},
     "output_type": "execute_result"
    }
   ],
   "source": [
    "# Just a warmup\n",
    "compute_fixed_point_ig(lambda x: 0.5*x, 1)"
   ]
  },
  {
   "cell_type": "markdown",
   "metadata": {},
   "source": [
    "Let us try the logistic function which is well known to generate chaotic behavior."
   ]
  },
  {
   "cell_type": "code",
   "execution_count": 5,
   "metadata": {
    "collapsed": true
   },
   "outputs": [],
   "source": [
    "def logistic(x, r):\n",
    "    return r * x * (1 - x)"
   ]
  },
  {
   "cell_type": "code",
   "execution_count": 6,
   "metadata": {
    "collapsed": false
   },
   "outputs": [
    {
     "data": {
      "image/png": "[encoded data removed]",
      "text/plain": [
       "<matplotlib.figure.Figure at 0x119348dd8>"
      ]
     },
     "metadata": {},
     "output_type": "display_data"
    }
   ],
   "source": [
    "x = np.linspace(0, 1, 100)\n",
    "y = logistic(x, r=4)\n",
    "fig, ax = plt.subplots()\n",
    "ax.plot(x, y)\n",
    "ax.plot([0, 1], [0, 1], ':', color='k')\n",
    "ax.set_aspect(1)\n",
    "plt.show()"
   ]
  },
  {
   "cell_type": "code",
   "execution_count": 7,
   "metadata": {
    "collapsed": false,
    "scrolled": true
   },
   "outputs": [
    {
     "name": "stdout",
     "output_type": "stream",
     "text": [
      "Iteration    Distance       Elapsed (seconds)\n",
      "---------------------------------------------\n",
      "13           3.322e-07      2.518e-03         \n"
     ]
    },
    {
     "data": {
      "text/plain": [
       "0.74999988927957317"
      ]
     },
     "execution_count": 7,
     "metadata": {},
     "output_type": "execute_result"
    }
   ],
   "source": [
    "tol = 1e-5\n",
    "x_init = 0.99\n",
    "compute_fixed_point_ig(logistic, x_init, error_tol=tol, r=4)"
   ]
  },
  {
   "cell_type": "markdown",
   "metadata": {},
   "source": [
    "Comare `compute_fixed_point` from `quantecon`:"
   ]
  },
  {
   "cell_type": "code",
   "execution_count": 8,
   "metadata": {
    "collapsed": false
   },
   "outputs": [
    {
     "name": "stdout",
     "output_type": "stream",
     "text": [
      "Iteration    Distance       Elapsed (seconds)\n",
      "---------------------------------------------\n",
      "5            9.949e-01      1.080e-04         \n",
      "10           6.885e-02      1.829e-04         \n",
      "15           4.956e-01      2.508e-04         \n",
      "20           8.997e-01      3.190e-04         \n",
      "25           9.216e-01      3.848e-04         \n",
      "30           3.289e-01      4.518e-04         \n",
      "35           5.585e-01      5.169e-04         \n",
      "40           3.872e-01      5.848e-04         \n",
      "45           3.619e-01      6.518e-04         \n",
      "50           1.202e-01      7.188e-04         \n"
     ]
    },
    {
     "data": {
      "text/plain": [
       "0.16269652754236544"
      ]
     },
     "execution_count": 8,
     "metadata": {},
     "output_type": "execute_result"
    }
   ],
   "source": [
    "qe.compute_fixed_point(logistic, x_init, error_tol=tol, r=4)"
   ]
  },
  {
   "cell_type": "markdown",
   "metadata": {},
   "source": [
    "## Example 4.6: 500-variable example"
   ]
  },
  {
   "cell_type": "code",
   "execution_count": 9,
   "metadata": {
    "collapsed": true
   },
   "outputs": [],
   "source": [
    "def f(x, M, c):\n",
    "    return -np.arctan(np.dot(M, (x - c)**3)) + c"
   ]
  },
  {
   "cell_type": "code",
   "execution_count": 10,
   "metadata": {
    "collapsed": false
   },
   "outputs": [
    {
     "data": {
      "image/png": "[encoded data removed]",
      "text/plain": [
       "<matplotlib.figure.Figure at 0x11977edd8>"
      ]
     },
     "metadata": {},
     "output_type": "display_data"
    }
   ],
   "source": [
    "x_min, x_max = -np.pi/2, np.pi/2\n",
    "x = np.linspace(x_min, x_max, 100)\n",
    "M = np.abs(np.random.randn())\n",
    "c = 0\n",
    "y = f(x, M, c)\n",
    "\n",
    "fig, ax = plt.subplots()\n",
    "ax.plot(x, y)\n",
    "ax.set_xlim(x_min, x_max)\n",
    "ax.set_ylim(x_min, x_max)\n",
    "ax.plot([x_min, x_max], [x_min, x_max], ':', color='k')\n",
    "ax.set_aspect(1)\n",
    "plt.show()"
   ]
  },
  {
   "cell_type": "code",
   "execution_count": 11,
   "metadata": {
    "collapsed": true
   },
   "outputs": [],
   "source": [
    "n = 500\n",
    "tol = 1e-5\n",
    "max_iter = 200"
   ]
  },
  {
   "cell_type": "code",
   "execution_count": 12,
   "metadata": {
    "collapsed": false
   },
   "outputs": [
    {
     "name": "stdout",
     "output_type": "stream",
     "text": [
      "===== Experiment 0 =====\n",
      "\n",
      "***Imitation game***\n",
      "Iteration    Distance       Elapsed (seconds)\n",
      "---------------------------------------------\n",
      "10           6.020e-08      3.492e-03         \n",
      "\n",
      "***Function iteration***\n",
      "Iteration    Distance       Elapsed (seconds)\n",
      "---------------------------------------------\n",
      "200          3.140e+00      1.870e-02         \n",
      "\n",
      "===== Experiment 1 =====\n",
      "\n",
      "***Imitation game***\n",
      "Iteration    Distance       Elapsed (seconds)\n",
      "---------------------------------------------\n",
      "8            4.049e-10      2.280e-03         \n",
      "\n",
      "***Function iteration***\n",
      "Iteration    Distance       Elapsed (seconds)\n",
      "---------------------------------------------\n",
      "200          3.140e+00      1.642e-02         \n",
      "\n",
      "===== Experiment 2 =====\n",
      "\n",
      "***Imitation game***\n",
      "Iteration    Distance       Elapsed (seconds)\n",
      "---------------------------------------------\n",
      "8            1.588e-06      1.899e-03         \n",
      "\n",
      "***Function iteration***\n",
      "Iteration    Distance       Elapsed (seconds)\n",
      "---------------------------------------------\n",
      "200          3.140e+00      1.668e-02         \n",
      "\n"
     ]
    }
   ],
   "source": [
    "num_trials = 3\n",
    "\n",
    "for i in range(num_trials):\n",
    "    print(\"===== Experiment {} =====\\n\".format(i))\n",
    "    c = np.random.standard_normal(n)\n",
    "    M = np.abs(np.random.standard_normal(size=(n, n)))\n",
    "    x_init = (np.random.rand(n)-1/2)*np.pi + c\n",
    "    \n",
    "    print(\"***Imitation game***\")\n",
    "    x0 = compute_fixed_point_ig(f, x_init, tol, max_iter, M=M, c=c)\n",
    "    print(\"\")\n",
    "    \n",
    "    print(\"***Function iteration***\")\n",
    "    x1 = qe.compute_fixed_point(f, x_init, tol, max_iter, verbose=1, print_skip=200, M=M, c=c)\n",
    "    print(\"\")"
   ]
  },
  {
   "cell_type": "code",
   "execution_count": 13,
   "metadata": {
    "collapsed": false,
    "scrolled": false
   },
   "outputs": [
    {
     "name": "stdout",
     "output_type": "stream",
     "text": [
      "===== Experiment 0 =====\n",
      "\n",
      "***Imitation game***\n",
      "Iteration    Distance       Elapsed (seconds)\n",
      "---------------------------------------------\n",
      "25           1.232e-08      1.708e-02         \n",
      "\n",
      "***Function iteration***\n",
      "Iteration    Distance       Elapsed (seconds)\n",
      "---------------------------------------------\n",
      "200          2.824e+00      1.550e-02         \n",
      "\n",
      "===== Experiment 1 =====\n",
      "\n",
      "***Imitation game***\n",
      "Iteration    Distance       Elapsed (seconds)\n",
      "---------------------------------------------\n",
      "26           1.718e-07      1.560e-02         \n",
      "\n",
      "***Function iteration***\n",
      "Iteration    Distance       Elapsed (seconds)\n",
      "---------------------------------------------\n",
      "200          2.653e+00      1.590e-02         \n",
      "\n",
      "===== Experiment 2 =====\n",
      "\n",
      "***Imitation game***\n",
      "Iteration    Distance       Elapsed (seconds)\n",
      "---------------------------------------------\n",
      "15           2.864e-09      4.477e-03         \n",
      "\n",
      "***Function iteration***\n",
      "Iteration    Distance       Elapsed (seconds)\n",
      "---------------------------------------------\n",
      "200          2.935e+00      1.712e-02         \n",
      "\n"
     ]
    }
   ],
   "source": [
    "num_trials = 3\n",
    "\n",
    "for i in range(num_trials):\n",
    "    print(\"===== Experiment {} =====\\n\".format(i))\n",
    "    c = np.random.standard_normal(n)\n",
    "    M = np.random.normal(0, 1/13, size=(n, n))\n",
    "    x_init = (np.random.rand(n)-1/2)*np.pi + c\n",
    "    \n",
    "    print(\"***Imitation game***\")\n",
    "    x0 = compute_fixed_point_ig(f, x_init, tol, max_iter, M=M, c=c)\n",
    "    print(\"\")\n",
    "    \n",
    "    print(\"***Function iteration***\")\n",
    "    x1 = qe.compute_fixed_point(f, x_init, tol, max_iter, verbose=1, print_skip=200, M=M, c=c)\n",
    "    print(\"\")"
   ]
  },
  {
   "cell_type": "code",
   "execution_count": null,
   "metadata": {
    "collapsed": true
   },
   "outputs": [],
   "source": []
  }
 ],
 "metadata": {
  "anaconda-cloud": {},
  "kernelspec": {
   "display_name": "Python [Root]",
   "language": "python",
   "name": "Python [Root]"
  },
  "language_info": {
   "codemirror_mode": {
    "name": "ipython",
    "version": 3
   },
   "file_extension": ".py",
   "mimetype": "text/x-python",
   "name": "python",
   "nbconvert_exporter": "python",
   "pygments_lexer": "ipython3",
   "version": "3.5.2"
  }
 },
 "nbformat": 4,
 "nbformat_minor": 0
}
